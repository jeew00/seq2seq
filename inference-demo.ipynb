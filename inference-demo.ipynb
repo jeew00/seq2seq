{
 "cells": [
  {
   "cell_type": "code",
   "execution_count": null,
   "metadata": {},
   "outputs": [],
   "source": [
    "from architecture.transformer.transformer import create_transformer\n",
    "from architecture.transformer import hparams\n",
    "from helper import utils\n",
    "\n",
    "from pythainlp.tokenize import word_tokenize\n",
    "import torch\n",
    "import numpy as np\n",
    "import json\n",
    "import collections\n",
    "\n",
    "device = torch.device('cuda' if torch.cuda.is_available() else 'cpu')"
   ]
  },
  {
   "cell_type": "markdown",
   "metadata": {},
   "source": [
    "# Helper func"
   ]
  },
  {
   "cell_type": "code",
   "execution_count": null,
   "metadata": {},
   "outputs": [],
   "source": [
    "def load_vocab(vocab_path):\n",
    "    with open(vocab_path, 'r') as f:\n",
    "        vocab = json.load(f)\n",
    "        vocab['src']['stoi'] = collections.defaultdict(lambda: 3, vocab['src']['stoi'])\n",
    "    return vocab, len(vocab['src']['itos']), len(vocab['trg']['itos'])\n",
    "\n",
    "def preprocess_input(query, stoi):\n",
    "    query = word_tokenize(query)\n",
    "    query = [stoi['<SOS>']] + [stoi[tok] for tok in query] + [stoi['<EOS>']]\n",
    "    query = np.array([query])\n",
    "    query = torch.from_numpy(query)\n",
    "    return query\n",
    "\n",
    "def gen_output(y_hat):\n",
    "    gen = []\n",
    "    for tok in y_hat[0]:\n",
    "        if tok.item() == 2:\n",
    "            break\n",
    "        if tok.item() not in [0, 1, 2]:\n",
    "            gen.append(vocab['trg']['itos'][str(tok.item())])\n",
    "    gen = ''.join(gen)\n",
    "    return gen"
   ]
  },
  {
   "cell_type": "markdown",
   "metadata": {},
   "source": [
    "# Model and vocab path"
   ]
  },
  {
   "cell_type": "code",
   "execution_count": null,
   "metadata": {},
   "outputs": [],
   "source": [
    "VOCAB_PATH = 'data/dataset/vocab.json'\n",
    "MODEL_PATH = 'model/512-6-8-2048.pt'"
   ]
  },
  {
   "cell_type": "markdown",
   "metadata": {},
   "source": [
    "# Load model and vocab"
   ]
  },
  {
   "cell_type": "code",
   "execution_count": null,
   "metadata": {},
   "outputs": [],
   "source": [
    "vocab, src_size, tgt_size = load_vocab(VOCAB_PATH)\n",
    "\n",
    "model = create_transformer(\n",
    "    input_dim=src_size,\n",
    "    output_dim=tgt_size,\n",
    "    d_model=hparams.d_model,\n",
    "    N=hparams.N,\n",
    "    h=hparams.h,\n",
    "    d_ff=hparams.d_ff,\n",
    "    dropout=0.1,\n",
    "    device=device\n",
    ")\n",
    "\n",
    "model.eval()\n",
    "model.load_state_dict(torch.load(MODEL_PATH, map_location=device))"
   ]
  },
  {
   "cell_type": "markdown",
   "metadata": {},
   "source": [
    "# Gen text"
   ]
  },
  {
   "cell_type": "code",
   "execution_count": null,
   "metadata": {},
   "outputs": [],
   "source": [
    "text = '........'\n",
    "\n",
    "x = preprocess_input(text, vocab['src']['stoi'])\n",
    "\n",
    "y_hat = model.predict(x , max_len=20)\n",
    "\n",
    "gen_text = gen_output(y_hat)\n",
    "\n",
    "print(gen_text)"
   ]
  },
  {
   "cell_type": "code",
   "execution_count": null,
   "metadata": {},
   "outputs": [],
   "source": []
  }
 ],
 "metadata": {
  "kernelspec": {
   "display_name": "Python 3",
   "language": "python",
   "name": "python3"
  },
  "language_info": {
   "codemirror_mode": {
    "name": "ipython",
    "version": 3
   },
   "file_extension": ".py",
   "mimetype": "text/x-python",
   "name": "python",
   "nbconvert_exporter": "python",
   "pygments_lexer": "ipython3",
   "version": "3.6.7"
  }
 },
 "nbformat": 4,
 "nbformat_minor": 2
}
